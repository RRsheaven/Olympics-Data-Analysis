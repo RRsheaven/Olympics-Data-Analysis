{
 "cells": [
  {
   "cell_type": "code",
   "execution_count": 1,
   "metadata": {},
   "outputs": [],
   "source": [
    "import numpy as np "
   ]
  },
  {
   "cell_type": "markdown",
   "metadata": {},
   "source": [
    "#Medal tally"
   ]
  },
  {
   "cell_type": "code",
   "execution_count": 10,
   "metadata": {},
   "outputs": [],
   "source": [
    "\n",
    "        \n",
    "def fetch_medal_tally(df, year, country):\n",
    "    medal_df = df.drop_duplicates(subset=['Team', 'NOC', 'Games', 'Year', 'City', 'Sport', 'Event', 'Medal'])\n",
    "    flag = 0\n",
    "    if year == 'Overall' and country == 'Overall':\n",
    "        temp_df = medal_df\n",
    "    if year == 'Overall' and country != 'Overall':\n",
    "        flag = 1\n",
    "        temp_df = medal_df[medal_df['region'] == country]\n",
    "    if year != 'Overall' and country == 'Overall':\n",
    "        temp_df = medal_df[medal_df['Year'] == int(year)]\n",
    "    if year != 'Overall' and country != 'Overall':\n",
    "        temp_df = medal_df[(medal_df['Year'] == year) & (medal_df['region'] == country)]\n",
    "\n",
    "    if flag == 1:\n",
    "        x = temp_df.groupby('Year').sum()[['Gold', 'Silver', 'Bronze']].sort_values('Year').reset_index()\n",
    "    else:\n",
    "        x = temp_df.groupby('region').sum()[['Gold', 'Silver', 'Bronze']].sort_values('Gold',\n",
    "       ascending=False).reset_index()\n",
    "\n",
    "    x['total'] = x['Gold'] + x['Silver'] + x['Bronze']\n",
    "\n",
    "    x['Gold'] = x['Gold'].astype('int')\n",
    "    x['Silver'] = x['Silver'].astype('int')\n",
    "    x['Bronze'] = x['Bronze'].astype('int')\n",
    "    x['total'] = x['total'].astype('int')\n",
    "\n",
    "    return x"
   ]
  },
  {
   "cell_type": "markdown",
   "metadata": {},
   "source": [
    "#Overall analysis"
   ]
  },
  {
   "cell_type": "code",
   "execution_count": 9,
   "metadata": {},
   "outputs": [],
   "source": [
    "def country_year_list(df):\n",
    "    years = df['Year'].unique().tolist()\n",
    "    years.sort()\n",
    "    years.insert(0, 'Overall')\n",
    "\n",
    "    country = np.unique(df['region'].dropna().values).tolist()\n",
    "    country.sort()\n",
    "    country.insert(0, 'Overall')\n",
    "\n",
    "    return years,country"
   ]
  },
  {
   "cell_type": "code",
   "execution_count": 2,
   "metadata": {},
   "outputs": [],
   "source": [
    "def data_over_time(df, col):\n",
    "    nations_over_time = df.drop_duplicates([\"Year\",col])['Year'].value_counts().reset_index().sort_values('index')\n",
    "    nations_over_time = nations_over_time.rename(columns={'index':'Editions','Year': col})\n",
    "    return nations_over_time"
   ]
  },
  {
   "cell_type": "code",
   "execution_count": 3,
   "metadata": {},
   "outputs": [],
   "source": [
    "def medal_tally(df):\n",
    "    medal_tally_df = df.drop_duplicates(subset=['Team','NOC','Games','Year','City','Sport','Event','Medal'])\n",
    "    medal_tally_df = medal_tally_df.groupby('region').sum()[['Gold','Silver','Bronze']].sort_values('Gold', ascending=False).reset_index()\n",
    "\n",
    "    medal_tally_df['Total']= medal_tally_df['Gold'] + medal_tally_df['Silver'] + medal_tally_df['Bronze']\n",
    "\n",
    "    medal_tally_df['Gold'] = medal_tally_df['Gold'].astype('int')\n",
    "    medal_tally_df['Silver'] = medal_tally_df['Silver'].astype('int')\n",
    "    medal_tally_df['Bronze'] = medal_tally_df['Bronze'].astype('int')\n",
    "    medal_tally_df['Total'] = medal_tally_df['Total'].astype('int')\n",
    "\n",
    "\n",
    "    return medal_tally_df"
   ]
  },
  {
   "cell_type": "code",
   "execution_count": 4,
   "metadata": {},
   "outputs": [],
   "source": [
    "def best_athletes(df, sport):\n",
    "    temp_df = df.dropna(subset=['Medal'])\n",
    "\n",
    "    if sport != \"Overall\":\n",
    "        temp_df = temp_df[temp_df['Sport']== sport]\n",
    "\n",
    "    x = temp_df['Name'].value_counts().reset_index().head(10).merge(df, left_on=\"index\", right_on=\"Name\", how='left')[['index','Name_x','Sport','region']].drop_duplicates(\"index\")\n",
    "    x.rename(columns={'index':'Name', 'Name_x':'Medals'}, inplace=True)\n",
    "\n",
    "    return x\n"
   ]
  },
  {
   "cell_type": "markdown",
   "metadata": {},
   "source": [
    "#Country Analysis"
   ]
  },
  {
   "cell_type": "code",
   "execution_count": 5,
   "metadata": {},
   "outputs": [],
   "source": [
    "def yearwise_medal_tally(df, country):\n",
    "    temp_df = df.dropna(subset=['Medal'])\n",
    "    temp_df.drop_duplicates(subset=['Team', 'NOC','Games','Year', 'City','Sport', 'Event','Medal'], inplace=True)\n",
    "\n",
    "    new_df = temp_df[temp_df['region'] == country]\n",
    "    final_df = new_df.groupby('Year').count()['Medal'].reset_index()\n",
    "\n",
    "    return final_df"
   ]
  },
  {
   "cell_type": "code",
   "execution_count": 6,
   "metadata": {},
   "outputs": [],
   "source": [
    "def country_event_heatmap(df, country):\n",
    "    temp_df = df.dropna(subset=['Medal'])\n",
    "    temp_df.drop_duplicates(subset=['Team', 'NOC','Games','Year', 'City','Sport', 'Event','Medal'], inplace=True)\n",
    "\n",
    "    new_df = temp_df[temp_df['region'] ==  country]\n",
    "    pt_df = new_df.pivot_table(index='Sport', columns='Year', values='Medal', aggfunc='count').fillna(0)\n",
    "    return pt_df"
   ]
  },
  {
   "cell_type": "code",
   "execution_count": 7,
   "metadata": {},
   "outputs": [],
   "source": [
    "def country_athlete_analysis(df, country):\n",
    "    temp_df = df.dropna(subset=['Medal'])\n",
    "    temp_df = temp_df[temp_df['region'] == country]\n",
    "\n",
    "    a = temp_df['Name'].value_counts().reset_index().head(10).merge(df, left_on='index', right_on='Name', how='left')[['index','Name_x','Sport']].drop_duplicates('index')\n",
    "    a.rename(columns={'index':'Name','Name_x':'Medals'}, inplace=True)\n",
    "    return a \n",
    "\n"
   ]
  },
  {
   "cell_type": "markdown",
   "metadata": {},
   "source": [
    "#Athlete analysis"
   ]
  },
  {
   "cell_type": "code",
   "execution_count": 8,
   "metadata": {},
   "outputs": [],
   "source": [
    "def men_vs_women(df):\n",
    "    athlete_df = df.drop_duplicates(subset=['Name', 'region'])\n",
    "\n",
    "    men = athlete_df[athlete_df['Sex'] == 'M'].groupby('Year').count()['Name'].reset_index()\n",
    "    women = athlete_df[athlete_df['Sex'] == 'F'].groupby('Year').count()['Name'].reset_index()\n",
    "\n",
    "    final = men.merge(women, on='Year', how='left')\n",
    "    final.rename(columns={'Name_x': 'Male', 'Name_y': 'Female'}, inplace=True)\n",
    "\n",
    "    final.fillna(0, inplace=True)\n",
    "\n",
    "    return final"
   ]
  },
  {
   "cell_type": "markdown",
   "metadata": {},
   "source": []
  },
  {
   "cell_type": "code",
   "execution_count": null,
   "metadata": {},
   "outputs": [],
   "source": []
  }
 ],
 "metadata": {
  "kernelspec": {
   "display_name": "Python 3",
   "language": "python",
   "name": "python3"
  },
  "language_info": {
   "codemirror_mode": {
    "name": "ipython",
    "version": 3
   },
   "file_extension": ".py",
   "mimetype": "text/x-python",
   "name": "python",
   "nbconvert_exporter": "python",
   "pygments_lexer": "ipython3",
   "version": "3.10.0"
  }
 },
 "nbformat": 4,
 "nbformat_minor": 2
}
